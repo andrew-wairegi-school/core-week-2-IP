{
  "nbformat": 4,
  "nbformat_minor": 0,
  "metadata": {
    "colab": {
      "name": "Moringa_Data_Science_Core_W2_Independent_Project_2021_10_Andrew_Wairegi_Python_Notebook.ipynb",
      "provenance": [],
      "collapsed_sections": [],
      "authorship_tag": "ABX9TyPHZvln6WgoGPn0JdflsDC0",
      "include_colab_link": true
    },
    "kernelspec": {
      "name": "python3",
      "display_name": "Python 3"
    },
    "language_info": {
      "name": "python"
    }
  },
  "cells": [
    {
      "cell_type": "markdown",
      "metadata": {
        "id": "view-in-github",
        "colab_type": "text"
      },
      "source": [
        "<a href=\"https://colab.research.google.com/github/andrew-wairegi-school/core-week-2-IP/blob/main/Moringa_Data_Science_Core_W2_Independent_Project_2021_10_Andrew_Wairegi_Python_Notebook.ipynb\" target=\"_parent\"><img src=\"https://colab.research.google.com/assets/colab-badge.svg\" alt=\"Open In Colab\"/></a>"
      ]
    },
    {
      "cell_type": "markdown",
      "metadata": {
        "id": "ICNBpBTN1gp1"
      },
      "source": [
        "# Financial service inclusion (East Africa)"
      ]
    },
    {
      "cell_type": "code",
      "metadata": {
        "id": "4_mVKuywpzzi"
      },
      "source": [
        "# Github: https://github.com/andrew-wairegi-school/core-week-2-IP\n",
        "# Dataset link:  https://ia803002.us.archive.org/20/items/financial_dataset/Financial%20Dataset%20-%201.csv"
      ],
      "execution_count": 170,
      "outputs": []
    },
    {
      "cell_type": "markdown",
      "metadata": {
        "id": "tpj0vxl5xAi3"
      },
      "source": [
        "Data definitions:\n",
        "\n",
        "*   Country - Country of Interviewee\n",
        "*   Year - Year of Survey\n",
        "*   Uniqueid - Unique Identifier for interviewee\n",
        "*   location_type - Location (Rural / Urban)\n",
        "*   cellphone_access - Access to cellphone (Yes / No)\n",
        "*   household_size - Number of people living in the house\n",
        "*   age_of_respondent - Age of the respondent\n",
        "*   gender_of_respondent - Gender (Male / Female)\n",
        "*   relationship_with_head - Relationship with head of household (Head of Household / Spouse / Child / Parent / Other relative / Other non-relatives / Dont know)\n",
        "*   marital_status - Marital status (\"Married/Living together\" / \"Divorced/Seperated\" / \"Widowed\" / \"Single/Never Married\" / \"Don’t know\")\n",
        "*   education_level - Highest level of Education (\"No formal education\" / \"Primary education\" / \"Secondary education\" / \"Vocational/Specialised training\" / \"Tertiary education\" / \"Other/Dont know/RTA\")\n",
        "*   job_type - Type of job (\"Farming and Fishing\" / \"Self employed\" / \"Formally employed Government\" / \"Formally employed Private\" / \"Informally employed\" / \"Remittance Dependent\" / \"Government Dependent\" / \"Other Income\" / \"No Income\" / \"Dont Know/Refuse to answer\")\n",
        "\n",
        "\n",
        "\n",
        "\n",
        "\n",
        "\n",
        "\n",
        "\n",
        "\n"
      ]
    },
    {
      "cell_type": "markdown",
      "metadata": {
        "id": "I1fIwEXJeWpG"
      },
      "source": [
        "## 1. Defining the Question"
      ]
    },
    {
      "cell_type": "markdown",
      "metadata": {
        "id": "FZJU-QMweciY"
      },
      "source": [
        "### Question"
      ]
    },
    {
      "cell_type": "markdown",
      "metadata": {
        "id": "t9H-ZPhPe1Mu"
      },
      "source": [
        "To predict what individuals will use or have a bank account ?"
      ]
    },
    {
      "cell_type": "markdown",
      "metadata": {
        "id": "etcupYyoegOn"
      },
      "source": [
        "### Metric for success"
      ]
    },
    {
      "cell_type": "markdown",
      "metadata": {
        "id": "Xk6kCEVpfDOe"
      },
      "source": [
        "The accuracy of the model in predicting who will own or use a bank account"
      ]
    },
    {
      "cell_type": "markdown",
      "metadata": {
        "id": "fDSSVv5Sejff"
      },
      "source": [
        "### Context"
      ]
    },
    {
      "cell_type": "markdown",
      "metadata": {
        "id": "ELGkEr42fPam"
      },
      "source": [
        "Financial inclusion has been one of the biggest problems in Africa. When dealing with economic developement. It allows households to be able to save their money safely, as well as make payments when they do not have a physical means to pay their creditors. It also allows businesses to build up their credit-worthiness. Which will allow them to borrow money later, or build up their stocks. Helping to develop the economy. This is why financial inclusion is important to development in the economy. Not only in African countries but also in other countries worldwide."
      ]
    },
    {
      "cell_type": "markdown",
      "metadata": {
        "id": "3mrAFhsDemPA"
      },
      "source": [
        "### Experimental Design"
      ]
    },
    {
      "cell_type": "markdown",
      "metadata": {
        "id": "-_Q4PpuHgcvj"
      },
      "source": [
        "1. Clean the data & prepare (for model)\n",
        "2. Exploratory data analysis (Univariate, Bivariate, & Multivariate)\n",
        "4. Create the model\n",
        "5. Do predictions\n",
        "6. Evaluate the model and solution"
      ]
    },
    {
      "cell_type": "markdown",
      "metadata": {
        "id": "ujLXbcGBesTi"
      },
      "source": [
        "### Appropriateness of the data"
      ]
    },
    {
      "cell_type": "markdown",
      "metadata": {
        "id": "FkmWYzHFjcs0"
      },
      "source": [
        "The data is appropriate because it looks at several African countries, and their data inclusion. This will be able to give us the right insights.\n",
        " \n",
        "If it has enough data to give use an accurate analysis."
      ]
    },
    {
      "cell_type": "markdown",
      "metadata": {
        "id": "vweITv4Nk-l6"
      },
      "source": [
        "## 2. Reading the data"
      ]
    },
    {
      "cell_type": "code",
      "metadata": {
        "id": "NPxms_ODlKTN"
      },
      "source": [
        "# Step 1: Import the libraries\n",
        "import numpy as np\n",
        "import pandas as pd\n",
        "import seaborn as sns\n",
        "import matplotlib.pyplot as plt"
      ],
      "execution_count": 171,
      "outputs": []
    },
    {
      "cell_type": "code",
      "metadata": {
        "colab": {
          "base_uri": "https://localhost:8080/",
          "height": 216
        },
        "id": "F5jTXBaYlERx",
        "outputId": "781bca9d-2415-4e15-aeeb-b843a46cfe84"
      },
      "source": [
        "# Step 2: Reading the dataset\n",
        "df = pd.read_csv(\"Financial Dataset - 1.csv\", na_values = \"nan\")\n",
        "df.head(2)"
      ],
      "execution_count": 172,
      "outputs": [
        {
          "output_type": "execute_result",
          "data": {
            "text/html": [
              "<div>\n",
              "<style scoped>\n",
              "    .dataframe tbody tr th:only-of-type {\n",
              "        vertical-align: middle;\n",
              "    }\n",
              "\n",
              "    .dataframe tbody tr th {\n",
              "        vertical-align: top;\n",
              "    }\n",
              "\n",
              "    .dataframe thead th {\n",
              "        text-align: right;\n",
              "    }\n",
              "</style>\n",
              "<table border=\"1\" class=\"dataframe\">\n",
              "  <thead>\n",
              "    <tr style=\"text-align: right;\">\n",
              "      <th></th>\n",
              "      <th>country</th>\n",
              "      <th>year</th>\n",
              "      <th>uniqueid</th>\n",
              "      <th>Has a Bank account</th>\n",
              "      <th>Type of Location</th>\n",
              "      <th>Cell Phone Access</th>\n",
              "      <th>household_size</th>\n",
              "      <th>Respondent Age</th>\n",
              "      <th>gender_of_respondent</th>\n",
              "      <th>The relathip with head</th>\n",
              "      <th>marital_status</th>\n",
              "      <th>Level of Educuation</th>\n",
              "      <th>Type of Job</th>\n",
              "    </tr>\n",
              "  </thead>\n",
              "  <tbody>\n",
              "    <tr>\n",
              "      <th>0</th>\n",
              "      <td>Kenya</td>\n",
              "      <td>2018</td>\n",
              "      <td>uniqueid_1</td>\n",
              "      <td>Yes</td>\n",
              "      <td>Rural</td>\n",
              "      <td>Yes</td>\n",
              "      <td>3.0</td>\n",
              "      <td>24.0</td>\n",
              "      <td>Female</td>\n",
              "      <td>Spouse</td>\n",
              "      <td>Married/Living together</td>\n",
              "      <td>Secondary education</td>\n",
              "      <td>Self employed</td>\n",
              "    </tr>\n",
              "    <tr>\n",
              "      <th>1</th>\n",
              "      <td>Kenya</td>\n",
              "      <td>2018</td>\n",
              "      <td>uniqueid_2</td>\n",
              "      <td>No</td>\n",
              "      <td>Rural</td>\n",
              "      <td>No</td>\n",
              "      <td>5.0</td>\n",
              "      <td>70.0</td>\n",
              "      <td>Female</td>\n",
              "      <td>Head of Household</td>\n",
              "      <td>Widowed</td>\n",
              "      <td>No formal education</td>\n",
              "      <td>Government Dependent</td>\n",
              "    </tr>\n",
              "  </tbody>\n",
              "</table>\n",
              "</div>"
            ],
            "text/plain": [
              "  country  year  ...  Level of Educuation           Type of Job\n",
              "0   Kenya  2018  ...  Secondary education         Self employed\n",
              "1   Kenya  2018  ...  No formal education  Government Dependent\n",
              "\n",
              "[2 rows x 13 columns]"
            ]
          },
          "metadata": {},
          "execution_count": 172
        }
      ]
    },
    {
      "cell_type": "markdown",
      "metadata": {
        "id": "oxv-2pYFlwql"
      },
      "source": [
        "## 3. Checking the Data"
      ]
    },
    {
      "cell_type": "code",
      "metadata": {
        "colab": {
          "base_uri": "https://localhost:8080/"
        },
        "id": "ZdEgEIttlrvL",
        "outputId": "5d95b87b-f14e-482c-98f0-aff408015b8f"
      },
      "source": [
        "# Determine the number of records\n",
        "df.shape"
      ],
      "execution_count": 173,
      "outputs": [
        {
          "output_type": "execute_result",
          "data": {
            "text/plain": [
              "(23524, 13)"
            ]
          },
          "metadata": {},
          "execution_count": 173
        }
      ]
    },
    {
      "cell_type": "code",
      "metadata": {
        "colab": {
          "base_uri": "https://localhost:8080/",
          "height": 377
        },
        "id": "6hVEHS_el9vc",
        "outputId": "a04e7cb2-a095-4428-da72-1cf9f41cabfa"
      },
      "source": [
        "# Preview the top of the dataset\n",
        "df.head()"
      ],
      "execution_count": 174,
      "outputs": [
        {
          "output_type": "execute_result",
          "data": {
            "text/html": [
              "<div>\n",
              "<style scoped>\n",
              "    .dataframe tbody tr th:only-of-type {\n",
              "        vertical-align: middle;\n",
              "    }\n",
              "\n",
              "    .dataframe tbody tr th {\n",
              "        vertical-align: top;\n",
              "    }\n",
              "\n",
              "    .dataframe thead th {\n",
              "        text-align: right;\n",
              "    }\n",
              "</style>\n",
              "<table border=\"1\" class=\"dataframe\">\n",
              "  <thead>\n",
              "    <tr style=\"text-align: right;\">\n",
              "      <th></th>\n",
              "      <th>country</th>\n",
              "      <th>year</th>\n",
              "      <th>uniqueid</th>\n",
              "      <th>Has a Bank account</th>\n",
              "      <th>Type of Location</th>\n",
              "      <th>Cell Phone Access</th>\n",
              "      <th>household_size</th>\n",
              "      <th>Respondent Age</th>\n",
              "      <th>gender_of_respondent</th>\n",
              "      <th>The relathip with head</th>\n",
              "      <th>marital_status</th>\n",
              "      <th>Level of Educuation</th>\n",
              "      <th>Type of Job</th>\n",
              "    </tr>\n",
              "  </thead>\n",
              "  <tbody>\n",
              "    <tr>\n",
              "      <th>0</th>\n",
              "      <td>Kenya</td>\n",
              "      <td>2018</td>\n",
              "      <td>uniqueid_1</td>\n",
              "      <td>Yes</td>\n",
              "      <td>Rural</td>\n",
              "      <td>Yes</td>\n",
              "      <td>3.0</td>\n",
              "      <td>24.0</td>\n",
              "      <td>Female</td>\n",
              "      <td>Spouse</td>\n",
              "      <td>Married/Living together</td>\n",
              "      <td>Secondary education</td>\n",
              "      <td>Self employed</td>\n",
              "    </tr>\n",
              "    <tr>\n",
              "      <th>1</th>\n",
              "      <td>Kenya</td>\n",
              "      <td>2018</td>\n",
              "      <td>uniqueid_2</td>\n",
              "      <td>No</td>\n",
              "      <td>Rural</td>\n",
              "      <td>No</td>\n",
              "      <td>5.0</td>\n",
              "      <td>70.0</td>\n",
              "      <td>Female</td>\n",
              "      <td>Head of Household</td>\n",
              "      <td>Widowed</td>\n",
              "      <td>No formal education</td>\n",
              "      <td>Government Dependent</td>\n",
              "    </tr>\n",
              "    <tr>\n",
              "      <th>2</th>\n",
              "      <td>Kenya</td>\n",
              "      <td>2018</td>\n",
              "      <td>uniqueid_3</td>\n",
              "      <td>Yes</td>\n",
              "      <td>Urban</td>\n",
              "      <td>Yes</td>\n",
              "      <td>5.0</td>\n",
              "      <td>26.0</td>\n",
              "      <td>Male</td>\n",
              "      <td>Other relative</td>\n",
              "      <td>Single/Never Married</td>\n",
              "      <td>Vocational/Specialised training</td>\n",
              "      <td>Self employed</td>\n",
              "    </tr>\n",
              "    <tr>\n",
              "      <th>3</th>\n",
              "      <td>Kenya</td>\n",
              "      <td>2018</td>\n",
              "      <td>uniqueid_4</td>\n",
              "      <td>No</td>\n",
              "      <td>Rural</td>\n",
              "      <td>Yes</td>\n",
              "      <td>5.0</td>\n",
              "      <td>34.0</td>\n",
              "      <td>Female</td>\n",
              "      <td>Head of Household</td>\n",
              "      <td>Married/Living together</td>\n",
              "      <td>Primary education</td>\n",
              "      <td>Formally employed Private</td>\n",
              "    </tr>\n",
              "    <tr>\n",
              "      <th>4</th>\n",
              "      <td>Kenya</td>\n",
              "      <td>2018</td>\n",
              "      <td>uniqueid_5</td>\n",
              "      <td>No</td>\n",
              "      <td>Urban</td>\n",
              "      <td>No</td>\n",
              "      <td>8.0</td>\n",
              "      <td>26.0</td>\n",
              "      <td>Male</td>\n",
              "      <td>Child</td>\n",
              "      <td>Single/Never Married</td>\n",
              "      <td>Primary education</td>\n",
              "      <td>Informally employed</td>\n",
              "    </tr>\n",
              "  </tbody>\n",
              "</table>\n",
              "</div>"
            ],
            "text/plain": [
              "  country  year  ...              Level of Educuation                Type of Job\n",
              "0   Kenya  2018  ...              Secondary education              Self employed\n",
              "1   Kenya  2018  ...              No formal education       Government Dependent\n",
              "2   Kenya  2018  ...  Vocational/Specialised training              Self employed\n",
              "3   Kenya  2018  ...                Primary education  Formally employed Private\n",
              "4   Kenya  2018  ...                Primary education        Informally employed\n",
              "\n",
              "[5 rows x 13 columns]"
            ]
          },
          "metadata": {},
          "execution_count": 174
        }
      ]
    },
    {
      "cell_type": "code",
      "metadata": {
        "colab": {
          "base_uri": "https://localhost:8080/",
          "height": 360
        },
        "id": "855BtEnTmMNk",
        "outputId": "1815d1e0-6a99-4555-85d1-19a9c34ba3eb"
      },
      "source": [
        "# Preview the tail of the dataset\n",
        "df.tail()"
      ],
      "execution_count": 175,
      "outputs": [
        {
          "output_type": "execute_result",
          "data": {
            "text/html": [
              "<div>\n",
              "<style scoped>\n",
              "    .dataframe tbody tr th:only-of-type {\n",
              "        vertical-align: middle;\n",
              "    }\n",
              "\n",
              "    .dataframe tbody tr th {\n",
              "        vertical-align: top;\n",
              "    }\n",
              "\n",
              "    .dataframe thead th {\n",
              "        text-align: right;\n",
              "    }\n",
              "</style>\n",
              "<table border=\"1\" class=\"dataframe\">\n",
              "  <thead>\n",
              "    <tr style=\"text-align: right;\">\n",
              "      <th></th>\n",
              "      <th>country</th>\n",
              "      <th>year</th>\n",
              "      <th>uniqueid</th>\n",
              "      <th>Has a Bank account</th>\n",
              "      <th>Type of Location</th>\n",
              "      <th>Cell Phone Access</th>\n",
              "      <th>household_size</th>\n",
              "      <th>Respondent Age</th>\n",
              "      <th>gender_of_respondent</th>\n",
              "      <th>The relathip with head</th>\n",
              "      <th>marital_status</th>\n",
              "      <th>Level of Educuation</th>\n",
              "      <th>Type of Job</th>\n",
              "    </tr>\n",
              "  </thead>\n",
              "  <tbody>\n",
              "    <tr>\n",
              "      <th>23519</th>\n",
              "      <td>Uganda</td>\n",
              "      <td>2018</td>\n",
              "      <td>uniqueid_2113</td>\n",
              "      <td>No</td>\n",
              "      <td>Rural</td>\n",
              "      <td>Yes</td>\n",
              "      <td>4.0</td>\n",
              "      <td>48.0</td>\n",
              "      <td>Female</td>\n",
              "      <td>Head of Household</td>\n",
              "      <td>Divorced/Seperated</td>\n",
              "      <td>No formal education</td>\n",
              "      <td>Other Income</td>\n",
              "    </tr>\n",
              "    <tr>\n",
              "      <th>23520</th>\n",
              "      <td>Uganda</td>\n",
              "      <td>2018</td>\n",
              "      <td>uniqueid_2114</td>\n",
              "      <td>No</td>\n",
              "      <td>Rural</td>\n",
              "      <td>Yes</td>\n",
              "      <td>2.0</td>\n",
              "      <td>27.0</td>\n",
              "      <td>Female</td>\n",
              "      <td>Head of Household</td>\n",
              "      <td>Single/Never Married</td>\n",
              "      <td>Secondary education</td>\n",
              "      <td>Other Income</td>\n",
              "    </tr>\n",
              "    <tr>\n",
              "      <th>23521</th>\n",
              "      <td>Uganda</td>\n",
              "      <td>2018</td>\n",
              "      <td>uniqueid_2115</td>\n",
              "      <td>No</td>\n",
              "      <td>Rural</td>\n",
              "      <td>Yes</td>\n",
              "      <td>5.0</td>\n",
              "      <td>27.0</td>\n",
              "      <td>Female</td>\n",
              "      <td>Parent</td>\n",
              "      <td>Widowed</td>\n",
              "      <td>Primary education</td>\n",
              "      <td>Other Income</td>\n",
              "    </tr>\n",
              "    <tr>\n",
              "      <th>23522</th>\n",
              "      <td>Uganda</td>\n",
              "      <td>2018</td>\n",
              "      <td>uniqueid_2116</td>\n",
              "      <td>No</td>\n",
              "      <td>Urban</td>\n",
              "      <td>Yes</td>\n",
              "      <td>7.0</td>\n",
              "      <td>30.0</td>\n",
              "      <td>Female</td>\n",
              "      <td>Parent</td>\n",
              "      <td>Divorced/Seperated</td>\n",
              "      <td>Secondary education</td>\n",
              "      <td>Self employed</td>\n",
              "    </tr>\n",
              "    <tr>\n",
              "      <th>23523</th>\n",
              "      <td>Uganda</td>\n",
              "      <td>2018</td>\n",
              "      <td>uniqueid_2117</td>\n",
              "      <td>No</td>\n",
              "      <td>Rural</td>\n",
              "      <td>Yes</td>\n",
              "      <td>10.0</td>\n",
              "      <td>20.0</td>\n",
              "      <td>Male</td>\n",
              "      <td>Child</td>\n",
              "      <td>Single/Never Married</td>\n",
              "      <td>Secondary education</td>\n",
              "      <td>No Income</td>\n",
              "    </tr>\n",
              "  </tbody>\n",
              "</table>\n",
              "</div>"
            ],
            "text/plain": [
              "      country  year  ...  Level of Educuation    Type of Job\n",
              "23519  Uganda  2018  ...  No formal education   Other Income\n",
              "23520  Uganda  2018  ...  Secondary education   Other Income\n",
              "23521  Uganda  2018  ...    Primary education   Other Income\n",
              "23522  Uganda  2018  ...  Secondary education  Self employed\n",
              "23523  Uganda  2018  ...  Secondary education      No Income\n",
              "\n",
              "[5 rows x 13 columns]"
            ]
          },
          "metadata": {},
          "execution_count": 175
        }
      ]
    },
    {
      "cell_type": "code",
      "metadata": {
        "colab": {
          "base_uri": "https://localhost:8080/"
        },
        "id": "Xj7ZDGAQmXnI",
        "outputId": "116e46da-6495-456f-8056-6816fb60ccaf"
      },
      "source": [
        "# Checking if the datatypes of each column are right\n",
        "df.info()"
      ],
      "execution_count": 176,
      "outputs": [
        {
          "output_type": "stream",
          "name": "stdout",
          "text": [
            "<class 'pandas.core.frame.DataFrame'>\n",
            "RangeIndex: 23524 entries, 0 to 23523\n",
            "Data columns (total 13 columns):\n",
            " #   Column                  Non-Null Count  Dtype  \n",
            "---  ------                  --------------  -----  \n",
            " 0   country                 23510 non-null  object \n",
            " 1   year                    23524 non-null  int64  \n",
            " 2   uniqueid                23524 non-null  object \n",
            " 3   Has a Bank account      23488 non-null  object \n",
            " 4   Type of Location        23509 non-null  object \n",
            " 5   Cell Phone Access       23513 non-null  object \n",
            " 6   household_size          23496 non-null  float64\n",
            " 7   Respondent Age          23490 non-null  float64\n",
            " 8   gender_of_respondent    23490 non-null  object \n",
            " 9   The relathip with head  23520 non-null  object \n",
            " 10  marital_status          23492 non-null  object \n",
            " 11  Level of Educuation     23495 non-null  object \n",
            " 12  Type of Job             23494 non-null  object \n",
            "dtypes: float64(2), int64(1), object(10)\n",
            "memory usage: 2.3+ MB\n"
          ]
        }
      ]
    },
    {
      "cell_type": "code",
      "metadata": {
        "id": "0vG_-rGGmwwf"
      },
      "source": [
        "# Looks ok"
      ],
      "execution_count": 177,
      "outputs": []
    },
    {
      "cell_type": "markdown",
      "metadata": {
        "id": "u_isZDaWeK1B"
      },
      "source": [
        "## 4. External data source Validation"
      ]
    },
    {
      "cell_type": "markdown",
      "metadata": {
        "id": "P02rMI8zeTr6"
      },
      "source": [
        "I believe the data is valid because it was carried out by Countries. They have also documented it in reports, so I believe it is accurate. They also used the FinScope tool, which is a valid tool for carrying out surveys."
      ]
    },
    {
      "cell_type": "markdown",
      "metadata": {
        "id": "9KqqvlhvnBFK"
      },
      "source": [
        "## 5. Cleaning the Dataset"
      ]
    },
    {
      "cell_type": "code",
      "metadata": {
        "id": "tA2cfxz45_vV"
      },
      "source": [
        "# Step 1: Drop unused columns\n",
        "df.drop([\"uniqueid\",\"year\"], axis = 1, inplace = True)"
      ],
      "execution_count": 178,
      "outputs": []
    },
    {
      "cell_type": "code",
      "metadata": {
        "colab": {
          "base_uri": "https://localhost:8080/",
          "height": 297
        },
        "id": "4B8ThuAY_i5b",
        "outputId": "60577133-b5cb-4ef8-c12e-b6551582ab76"
      },
      "source": [
        "# Step 2: Checking for outliers\n",
        "sns.boxplot(data = df, x = \"household_size\")"
      ],
      "execution_count": 179,
      "outputs": [
        {
          "output_type": "execute_result",
          "data": {
            "text/plain": [
              "<matplotlib.axes._subplots.AxesSubplot at 0x7f9ac66be190>"
            ]
          },
          "metadata": {},
          "execution_count": 179
        },
        {
          "output_type": "display_data",
          "data": {
            "image/png": "[encoded data removed]",
            "text/plain": [
              "<Figure size 432x288 with 1 Axes>"
            ]
          },
          "metadata": {
            "needs_background": "light"
          }
        }
      ]
    },
    {
      "cell_type": "code",
      "metadata": {
        "colab": {
          "base_uri": "https://localhost:8080/"
        },
        "id": "wOgeNNLkAq4X",
        "outputId": "81a84ac9-a168-43dc-afd6-09485cec14d0"
      },
      "source": [
        "df[\"household_size\"].max()"
      ],
      "execution_count": 180,
      "outputs": [
        {
          "output_type": "execute_result",
          "data": {
            "text/plain": [
              "21.0"
            ]
          },
          "metadata": {},
          "execution_count": 180
        }
      ]
    },
    {
      "cell_type": "code",
      "metadata": {
        "id": "TpJadcuRAxHw"
      },
      "source": [
        "# It's actually possible to have a household of over 20 people\n",
        "# in some countries. So it is not a outlier. Especially in some rural areas."
      ],
      "execution_count": 181,
      "outputs": []
    },
    {
      "cell_type": "code",
      "metadata": {
        "colab": {
          "base_uri": "https://localhost:8080/",
          "height": 296
        },
        "id": "fSYBKLUgA6IO",
        "outputId": "7d5f4068-88ff-4747-d077-fa8a28d9bf4b"
      },
      "source": [
        "sns.boxplot(data = df, x = \"Respondent Age\")"
      ],
      "execution_count": 182,
      "outputs": [
        {
          "output_type": "execute_result",
          "data": {
            "text/plain": [
              "<matplotlib.axes._subplots.AxesSubplot at 0x7f9ac661bd50>"
            ]
          },
          "metadata": {},
          "execution_count": 182
        },
        {
          "output_type": "display_data",
          "data": {
            "image/png": "[encoded data removed]",
            "text/plain": [
              "<Figure size 432x288 with 1 Axes>"
            ]
          },
          "metadata": {
            "needs_background": "light"
          }
        }
      ]
    },
    {
      "cell_type": "code",
      "metadata": {
        "id": "ti4Px_EfBDVe"
      },
      "source": [
        "# It's possible to have people aged around 100.\n",
        "# So it is not an outlier. Since everyones age circles around 30 years.\n",
        "# It is possible that it would show up as an outlier."
      ],
      "execution_count": 183,
      "outputs": []
    },
    {
      "cell_type": "code",
      "metadata": {
        "colab": {
          "base_uri": "https://localhost:8080/"
        },
        "id": "aqNFzE76BU1I",
        "outputId": "0b83f3f7-c338-4673-fd12-e6873d170a6c"
      },
      "source": [
        "# Step 3: Removing missing values\n",
        "df.isnull().sum()"
      ],
      "execution_count": 184,
      "outputs": [
        {
          "output_type": "execute_result",
          "data": {
            "text/plain": [
              "country                   14\n",
              "Has a Bank account        36\n",
              "Type of Location          15\n",
              "Cell Phone Access         11\n",
              "household_size            28\n",
              "Respondent Age            34\n",
              "gender_of_respondent      34\n",
              "The relathip with head     4\n",
              "marital_status            32\n",
              "Level of Educuation       29\n",
              "Type of Job               30\n",
              "dtype: int64"
            ]
          },
          "metadata": {},
          "execution_count": 184
        }
      ]
    },
    {
      "cell_type": "code",
      "metadata": {
        "id": "RMKl0ZDBBo6t"
      },
      "source": [
        "# Drop the rows, becuase there is no\n",
        "# way to impute them"
      ],
      "execution_count": 185,
      "outputs": []
    },
    {
      "cell_type": "code",
      "metadata": {
        "id": "Ic6r3kB4BzRU"
      },
      "source": [
        "df.dropna(axis = 0, inplace = True)"
      ],
      "execution_count": 186,
      "outputs": []
    },
    {
      "cell_type": "code",
      "metadata": {
        "colab": {
          "base_uri": "https://localhost:8080/"
        },
        "id": "09rOmxVpB7Fd",
        "outputId": "9c343373-6a1c-4afa-dace-dc7ae7ac30cc"
      },
      "source": [
        "df.isnull().sum()"
      ],
      "execution_count": 187,
      "outputs": [
        {
          "output_type": "execute_result",
          "data": {
            "text/plain": [
              "country                   0\n",
              "Has a Bank account        0\n",
              "Type of Location          0\n",
              "Cell Phone Access         0\n",
              "household_size            0\n",
              "Respondent Age            0\n",
              "gender_of_respondent      0\n",
              "The relathip with head    0\n",
              "marital_status            0\n",
              "Level of Educuation       0\n",
              "Type of Job               0\n",
              "dtype: int64"
            ]
          },
          "metadata": {},
          "execution_count": 187
        }
      ]
    },
    {
      "cell_type": "code",
      "metadata": {
        "colab": {
          "base_uri": "https://localhost:8080/"
        },
        "id": "FKicvpLEB919",
        "outputId": "514d2163-32b2-489b-d142-ce21b45f17da"
      },
      "source": [
        "# Step 4: Check for duplicates\n",
        "df.duplicated().sum()"
      ],
      "execution_count": 188,
      "outputs": [
        {
          "output_type": "execute_result",
          "data": {
            "text/plain": [
              "4372"
            ]
          },
          "metadata": {},
          "execution_count": 188
        }
      ]
    },
    {
      "cell_type": "code",
      "metadata": {
        "id": "it3-5vMXCaxL"
      },
      "source": [
        "df.drop_duplicates(inplace = True)"
      ],
      "execution_count": 189,
      "outputs": []
    },
    {
      "cell_type": "code",
      "metadata": {
        "colab": {
          "base_uri": "https://localhost:8080/"
        },
        "id": "PO5syX7PCkBa",
        "outputId": "a2d792f9-daa6-4514-e499-9c6bc97b5498"
      },
      "source": [
        "df.duplicated().sum()"
      ],
      "execution_count": 190,
      "outputs": [
        {
          "output_type": "execute_result",
          "data": {
            "text/plain": [
              "0"
            ]
          },
          "metadata": {},
          "execution_count": 190
        }
      ]
    },
    {
      "cell_type": "code",
      "metadata": {
        "colab": {
          "base_uri": "https://localhost:8080/",
          "height": 297
        },
        "id": "Cz8dLpl3Cm34",
        "outputId": "8ed2a0c5-237a-4ce2-8a20-8aae8ec0b046"
      },
      "source": [
        "# Step 5: Check for Anomalies\n",
        "# Household size\n",
        "sns.kdeplot(data = df, x = \"household_size\")"
      ],
      "execution_count": 191,
      "outputs": [
        {
          "output_type": "execute_result",
          "data": {
            "text/plain": [
              "<matplotlib.axes._subplots.AxesSubplot at 0x7f9ac6663dd0>"
            ]
          },
          "metadata": {},
          "execution_count": 191
        },
        {
          "output_type": "display_data",
          "data": {
            "image/png": "[encoded data removed]",
            "text/plain": [
              "<Figure size 432x288 with 1 Axes>"
            ]
          },
          "metadata": {
            "needs_background": "light"
          }
        }
      ]
    },
    {
      "cell_type": "code",
      "metadata": {
        "id": "MEJQJAdZDI2o"
      },
      "source": [
        "# Not too unusual"
      ],
      "execution_count": 192,
      "outputs": []
    },
    {
      "cell_type": "code",
      "metadata": {
        "colab": {
          "base_uri": "https://localhost:8080/",
          "height": 296
        },
        "id": "_s9YjyN2DOEF",
        "outputId": "ee9bb42d-f12c-4a5f-91c7-947a47281aee"
      },
      "source": [
        "# Respondent Age\n",
        "sns.kdeplot(data = df, x = \"Respondent Age\")"
      ],
      "execution_count": 193,
      "outputs": [
        {
          "output_type": "execute_result",
          "data": {
            "text/plain": [
              "<matplotlib.axes._subplots.AxesSubplot at 0x7f9ac3401a50>"
            ]
          },
          "metadata": {},
          "execution_count": 193
        },
        {
          "output_type": "display_data",
          "data": {
            "image/png": "[encoded data removed]",
            "text/plain": [
              "<Figure size 432x288 with 1 Axes>"
            ]
          },
          "metadata": {
            "needs_background": "light"
          }
        }
      ]
    },
    {
      "cell_type": "code",
      "metadata": {
        "id": "SWLsglvHDmd8"
      },
      "source": [
        "# Not unusual. Most people are around\n",
        "# A certain age."
      ],
      "execution_count": 194,
      "outputs": []
    },
    {
      "cell_type": "code",
      "metadata": {
        "colab": {
          "base_uri": "https://localhost:8080/"
        },
        "id": "M4trEv9j6piE",
        "outputId": "ce6e5b6e-4756-4277-f1ff-acb5b5697d53"
      },
      "source": [
        "# Step 6: Change column names\n",
        "df.columns = df.columns.str.lower()\n",
        "df.columns = df.columns.str.replace(\"_\", \" \")\n",
        "df.rename(columns = {\"the relathip with head\": \"The relationship with head\"}, inplace = True)\n",
        "df.columns"
      ],
      "execution_count": 195,
      "outputs": [
        {
          "output_type": "execute_result",
          "data": {
            "text/plain": [
              "Index(['country', 'has a bank account', 'type of location',\n",
              "       'cell phone access', 'household size', 'respondent age',\n",
              "       'gender of respondent', 'The relationship with head', 'marital status',\n",
              "       'level of educuation', 'type of job'],\n",
              "      dtype='object')"
            ]
          },
          "metadata": {},
          "execution_count": 195
        }
      ]
    },
    {
      "cell_type": "code",
      "metadata": {
        "id": "w5JGAfOp8Wk7"
      },
      "source": [
        "# Step 7: Remove empty spaces from column names and columns\n",
        "df.columns = df.columns.str.strip()\n",
        "\n",
        "columns = [\"country\", \"has a bank account\", \"type of location\", \"cell phone access\", \"gender of respondent\", \"The relationship with head\", \"marital status\", \"level of educuation\", \"type of job\"]\n",
        "df[columns] = (df[columns].astype(str)).applymap(str.strip)"
      ],
      "execution_count": 196,
      "outputs": []
    },
    {
      "cell_type": "code",
      "metadata": {
        "id": "Rm2SsFW6aRCm"
      },
      "source": [
        "# Step 8: Remove wrong labels\n",
        "indexes = list(df[df[\"level of educuation\"] == \"6\"].index)\n",
        "df.drop(indexes, axis = 0, inplace = True)"
      ],
      "execution_count": 197,
      "outputs": []
    },
    {
      "cell_type": "code",
      "metadata": {
        "id": "yud80Jpx3UD9"
      },
      "source": [
        ""
      ],
      "execution_count": 197,
      "outputs": []
    },
    {
      "cell_type": "markdown",
      "metadata": {
        "id": "JFDf_ViMnQ-6"
      },
      "source": [
        "## 6. Data Preparation for the model"
      ]
    },
    {
      "cell_type": "markdown",
      "metadata": {
        "id": "GOK0sdGknVgA"
      },
      "source": [
        "Some data columns need to be converted into integers. So that they can be used with the model. This will be done now so that they can be used later easily."
      ]
    },
    {
      "cell_type": "code",
      "metadata": {
        "id": "OLaR0NR347EJ"
      },
      "source": [
        "df_num = df.copy()"
      ],
      "execution_count": 198,
      "outputs": []
    },
    {
      "cell_type": "code",
      "metadata": {
        "colab": {
          "base_uri": "https://localhost:8080/"
        },
        "id": "5_aFbrBM5mXd",
        "outputId": "6226d0ff-a980-47f6-b310-42f1732476a2"
      },
      "source": [
        "df_num.columns"
      ],
      "execution_count": 199,
      "outputs": [
        {
          "output_type": "execute_result",
          "data": {
            "text/plain": [
              "Index(['country', 'has a bank account', 'type of location',\n",
              "       'cell phone access', 'household size', 'respondent age',\n",
              "       'gender of respondent', 'The relationship with head', 'marital status',\n",
              "       'level of educuation', 'type of job'],\n",
              "      dtype='object')"
            ]
          },
          "metadata": {},
          "execution_count": 199
        }
      ]
    },
    {
      "cell_type": "markdown",
      "metadata": {
        "id": "ghVRtLLyIUbf"
      },
      "source": [
        "Step 1: Convert columns to categories"
      ]
    },
    {
      "cell_type": "code",
      "metadata": {
        "id": "CXAp3ErvmdIz"
      },
      "source": [
        "df_num[\"has a bank account\"] = df_num[\"has a bank account\"].astype(\"category\")\n",
        "df_num[\"type of location\"] = df_num[\"type of location\"].astype(\"category\")\n",
        "df_num[\"cell phone access\"] = df_num[\"cell phone access\"].astype(\"category\")\n",
        "df_num[\"gender of respondent\"] = df_num[\"gender of respondent\"].astype(\"category\")\n",
        "df_num[\"The relationship with head\"] = df_num[\"The relationship with head\"].astype(\"category\")\n",
        "df_num[\"marital status\"] = df_num[\"marital status\"].astype(\"category\")\n",
        "df_num[\"level of educuation\"] = df_num[\"level of educuation\"].astype(\"category\")\n",
        "df_num[\"type of job\"] = df_num[\"type of job\"].astype(\"category\")"
      ],
      "execution_count": 200,
      "outputs": []
    },
    {
      "cell_type": "markdown",
      "metadata": {
        "id": "frdDthyOGnkj"
      },
      "source": [
        "Step 2: Show keys"
      ]
    },
    {
      "cell_type": "code",
      "metadata": {
        "colab": {
          "base_uri": "https://localhost:8080/"
        },
        "id": "XVH8cIPxE6Z9",
        "outputId": "d46aa352-5f21-4c4e-c9ce-a9f15d869b9a"
      },
      "source": [
        "# Has a bank account\n",
        "dict(enumerate(df_num[\"has a bank account\"].cat.categories))"
      ],
      "execution_count": 201,
      "outputs": [
        {
          "output_type": "execute_result",
          "data": {
            "text/plain": [
              "{0: 'No', 1: 'Yes'}"
            ]
          },
          "metadata": {},
          "execution_count": 201
        }
      ]
    },
    {
      "cell_type": "code",
      "metadata": {
        "colab": {
          "base_uri": "https://localhost:8080/"
        },
        "id": "lTvtO-zpFy3s",
        "outputId": "d8257a53-549f-4e85-a227-67b7dad7e175"
      },
      "source": [
        "# type of location\n",
        "dict(enumerate(df_num[\"type of location\"].cat.categories))"
      ],
      "execution_count": 202,
      "outputs": [
        {
          "output_type": "execute_result",
          "data": {
            "text/plain": [
              "{0: 'Rural', 1: 'Urban'}"
            ]
          },
          "metadata": {},
          "execution_count": 202
        }
      ]
    },
    {
      "cell_type": "code",
      "metadata": {
        "colab": {
          "base_uri": "https://localhost:8080/"
        },
        "id": "PmMTbtRCGG3Q",
        "outputId": "e230abdd-dd6f-439c-9818-59f58ce33a38"
      },
      "source": [
        "# cell phone access\n",
        "dict(enumerate(df_num[\"cell phone access\"].cat.categories))"
      ],
      "execution_count": 203,
      "outputs": [
        {
          "output_type": "execute_result",
          "data": {
            "text/plain": [
              "{0: 'No', 1: 'Yes'}"
            ]
          },
          "metadata": {},
          "execution_count": 203
        }
      ]
    },
    {
      "cell_type": "code",
      "metadata": {
        "colab": {
          "base_uri": "https://localhost:8080/"
        },
        "id": "k9CHHO2PGPbZ",
        "outputId": "1a888287-da0e-45ca-a19a-ce8f63487c75"
      },
      "source": [
        "# gender of respondent\n",
        "dict(enumerate(df_num[\"gender of respondent\"].cat.categories))"
      ],
      "execution_count": 204,
      "outputs": [
        {
          "output_type": "execute_result",
          "data": {
            "text/plain": [
              "{0: 'Female', 1: 'Male'}"
            ]
          },
          "metadata": {},
          "execution_count": 204
        }
      ]
    },
    {
      "cell_type": "code",
      "metadata": {
        "colab": {
          "base_uri": "https://localhost:8080/"
        },
        "id": "nhmIvb4EGVjT",
        "outputId": "74ca8fa1-1c49-4ed6-9433-b47c2540d3a6"
      },
      "source": [
        "# The relationship with head\n",
        "dict(enumerate(df_num[\"gender of respondent\"].cat.categories))"
      ],
      "execution_count": 205,
      "outputs": [
        {
          "output_type": "execute_result",
          "data": {
            "text/plain": [
              "{0: 'Female', 1: 'Male'}"
            ]
          },
          "metadata": {},
          "execution_count": 205
        }
      ]
    },
    {
      "cell_type": "code",
      "metadata": {
        "colab": {
          "base_uri": "https://localhost:8080/"
        },
        "id": "q2cWpOzRGasN",
        "outputId": "c0f89c4d-7abb-4724-ff6b-b372e2967af6"
      },
      "source": [
        "# marital status\n",
        "dict(enumerate(df_num[\"marital status\"].cat.categories))"
      ],
      "execution_count": 206,
      "outputs": [
        {
          "output_type": "execute_result",
          "data": {
            "text/plain": [
              "{0: 'Divorced/Seperated',\n",
              " 1: 'Dont know',\n",
              " 2: 'Married/Living together',\n",
              " 3: 'Single/Never Married',\n",
              " 4: 'Widowed'}"
            ]
          },
          "metadata": {},
          "execution_count": 206
        }
      ]
    },
    {
      "cell_type": "code",
      "metadata": {
        "colab": {
          "base_uri": "https://localhost:8080/"
        },
        "id": "-pP3VgUMHdBD",
        "outputId": "d71f3292-be70-4b34-e44c-a3c9f56f6c0d"
      },
      "source": [
        "# level of educuation\n",
        "dict(enumerate(df_num[\"level of educuation\"].cat.categories))"
      ],
      "execution_count": 207,
      "outputs": [
        {
          "output_type": "execute_result",
          "data": {
            "text/plain": [
              "{0: 'No formal education',\n",
              " 1: 'Other/Dont know/RTA',\n",
              " 2: 'Primary education',\n",
              " 3: 'Secondary education',\n",
              " 4: 'Tertiary education',\n",
              " 5: 'Vocational/Specialised training'}"
            ]
          },
          "metadata": {},
          "execution_count": 207
        }
      ]
    },
    {
      "cell_type": "code",
      "metadata": {
        "colab": {
          "base_uri": "https://localhost:8080/"
        },
        "id": "1rGQjM1BHnJn",
        "outputId": "62e47570-da93-49a3-b115-2f5519d5489d"
      },
      "source": [
        "# type of job\n",
        "dict(enumerate(df_num[\"type of job\"].cat.categories))"
      ],
      "execution_count": 208,
      "outputs": [
        {
          "output_type": "execute_result",
          "data": {
            "text/plain": [
              "{0: 'Dont Know/Refuse to answer',\n",
              " 1: 'Farming and Fishing',\n",
              " 2: 'Formally employed Government',\n",
              " 3: 'Formally employed Private',\n",
              " 4: 'Government Dependent',\n",
              " 5: 'Informally employed',\n",
              " 6: 'No Income',\n",
              " 7: 'Other Income',\n",
              " 8: 'Remittance Dependent',\n",
              " 9: 'Self employed'}"
            ]
          },
          "metadata": {},
          "execution_count": 208
        }
      ]
    },
    {
      "cell_type": "code",
      "metadata": {
        "id": "k11KhwYAoqhz"
      },
      "source": [
        ""
      ],
      "execution_count": 208,
      "outputs": []
    },
    {
      "cell_type": "markdown",
      "metadata": {
        "id": "s5SLeMSiIph5"
      },
      "source": [
        "Step 3: Replace column values with column codes"
      ]
    },
    {
      "cell_type": "code",
      "metadata": {
        "id": "ajZgoE4nEkWc"
      },
      "source": [
        "df_num[\"has a bank account\"] = df_num[\"has a bank account\"].cat.codes\n",
        "df_num[\"type of location\"] = df_num[\"type of location\"].cat.codes\n",
        "df_num[\"cell phone access\"] = df_num[\"cell phone access\"].cat.codes\n",
        "df_num[\"gender of respondent\"] = df_num[\"gender of respondent\"].cat.codes\n",
        "df_num[\"The relationship with head\"] = df_num[\"The relationship with head\"].cat.codes\n",
        "df_num[\"marital status\"] = df_num[\"marital status\"].cat.codes\n",
        "df_num[\"level of educuation\"] = df_num[\"level of educuation\"].cat.codes\n",
        "df_num[\"type of job\"] = df_num[\"type of job\"].cat.codes"
      ],
      "execution_count": 209,
      "outputs": []
    },
    {
      "cell_type": "markdown",
      "metadata": {
        "id": "84PPbSXYIwgk"
      },
      "source": [
        "Step 4: Preview dataset"
      ]
    },
    {
      "cell_type": "code",
      "metadata": {
        "colab": {
          "base_uri": "https://localhost:8080/",
          "height": 238
        },
        "id": "3_qHYeBgG7BI",
        "outputId": "439f3736-905f-4146-94ba-d3493918673d"
      },
      "source": [
        "df_num.head()"
      ],
      "execution_count": 210,
      "outputs": [
        {
          "output_type": "execute_result",
          "data": {
            "text/html": [
              "<div>\n",
              "<style scoped>\n",
              "    .dataframe tbody tr th:only-of-type {\n",
              "        vertical-align: middle;\n",
              "    }\n",
              "\n",
              "    .dataframe tbody tr th {\n",
              "        vertical-align: top;\n",
              "    }\n",
              "\n",
              "    .dataframe thead th {\n",
              "        text-align: right;\n",
              "    }\n",
              "</style>\n",
              "<table border=\"1\" class=\"dataframe\">\n",
              "  <thead>\n",
              "    <tr style=\"text-align: right;\">\n",
              "      <th></th>\n",
              "      <th>country</th>\n",
              "      <th>has a bank account</th>\n",
              "      <th>type of location</th>\n",
              "      <th>cell phone access</th>\n",
              "      <th>household size</th>\n",
              "      <th>respondent age</th>\n",
              "      <th>gender of respondent</th>\n",
              "      <th>The relationship with head</th>\n",
              "      <th>marital status</th>\n",
              "      <th>level of educuation</th>\n",
              "      <th>type of job</th>\n",
              "    </tr>\n",
              "  </thead>\n",
              "  <tbody>\n",
              "    <tr>\n",
              "      <th>0</th>\n",
              "      <td>Kenya</td>\n",
              "      <td>1</td>\n",
              "      <td>0</td>\n",
              "      <td>1</td>\n",
              "      <td>3.0</td>\n",
              "      <td>24.0</td>\n",
              "      <td>0</td>\n",
              "      <td>5</td>\n",
              "      <td>2</td>\n",
              "      <td>3</td>\n",
              "      <td>9</td>\n",
              "    </tr>\n",
              "    <tr>\n",
              "      <th>1</th>\n",
              "      <td>Kenya</td>\n",
              "      <td>0</td>\n",
              "      <td>0</td>\n",
              "      <td>0</td>\n",
              "      <td>5.0</td>\n",
              "      <td>70.0</td>\n",
              "      <td>0</td>\n",
              "      <td>1</td>\n",
              "      <td>4</td>\n",
              "      <td>0</td>\n",
              "      <td>4</td>\n",
              "    </tr>\n",
              "    <tr>\n",
              "      <th>2</th>\n",
              "      <td>Kenya</td>\n",
              "      <td>1</td>\n",
              "      <td>1</td>\n",
              "      <td>1</td>\n",
              "      <td>5.0</td>\n",
              "      <td>26.0</td>\n",
              "      <td>1</td>\n",
              "      <td>3</td>\n",
              "      <td>3</td>\n",
              "      <td>5</td>\n",
              "      <td>9</td>\n",
              "    </tr>\n",
              "    <tr>\n",
              "      <th>3</th>\n",
              "      <td>Kenya</td>\n",
              "      <td>0</td>\n",
              "      <td>0</td>\n",
              "      <td>1</td>\n",
              "      <td>5.0</td>\n",
              "      <td>34.0</td>\n",
              "      <td>0</td>\n",
              "      <td>1</td>\n",
              "      <td>2</td>\n",
              "      <td>2</td>\n",
              "      <td>3</td>\n",
              "    </tr>\n",
              "    <tr>\n",
              "      <th>4</th>\n",
              "      <td>Kenya</td>\n",
              "      <td>0</td>\n",
              "      <td>1</td>\n",
              "      <td>0</td>\n",
              "      <td>8.0</td>\n",
              "      <td>26.0</td>\n",
              "      <td>1</td>\n",
              "      <td>0</td>\n",
              "      <td>3</td>\n",
              "      <td>2</td>\n",
              "      <td>5</td>\n",
              "    </tr>\n",
              "  </tbody>\n",
              "</table>\n",
              "</div>"
            ],
            "text/plain": [
              "  country  has a bank account  ...  level of educuation  type of job\n",
              "0   Kenya                   1  ...                    3            9\n",
              "1   Kenya                   0  ...                    0            4\n",
              "2   Kenya                   1  ...                    5            9\n",
              "3   Kenya                   0  ...                    2            3\n",
              "4   Kenya                   0  ...                    2            5\n",
              "\n",
              "[5 rows x 11 columns]"
            ]
          },
          "metadata": {},
          "execution_count": 210
        }
      ]
    },
    {
      "cell_type": "markdown",
      "metadata": {
        "id": "Mv6D0en9JOa5"
      },
      "source": [
        "## 7. Exploratory data analysis"
      ]
    },
    {
      "cell_type": "markdown",
      "metadata": {
        "id": "wmWyfuCBk6OC"
      },
      "source": [
        "#### Univariate analysis"
      ]
    },
    {
      "cell_type": "code",
      "metadata": {
        "colab": {
          "base_uri": "https://localhost:8080/",
          "height": 297
        },
        "id": "1gjVv3Mjhag_",
        "outputId": "a79f94c7-7a73-4c74-a072-2ccfdfb93526"
      },
      "source": [
        "df.describe()"
      ],
      "execution_count": 211,
      "outputs": [
        {
          "output_type": "execute_result",
          "data": {
            "text/html": [
              "<div>\n",
              "<style scoped>\n",
              "    .dataframe tbody tr th:only-of-type {\n",
              "        vertical-align: middle;\n",
              "    }\n",
              "\n",
              "    .dataframe tbody tr th {\n",
              "        vertical-align: top;\n",
              "    }\n",
              "\n",
              "    .dataframe thead th {\n",
              "        text-align: right;\n",
              "    }\n",
              "</style>\n",
              "<table border=\"1\" class=\"dataframe\">\n",
              "  <thead>\n",
              "    <tr style=\"text-align: right;\">\n",
              "      <th></th>\n",
              "      <th>household size</th>\n",
              "      <th>respondent age</th>\n",
              "    </tr>\n",
              "  </thead>\n",
              "  <tbody>\n",
              "    <tr>\n",
              "      <th>count</th>\n",
              "      <td>18945.000000</td>\n",
              "      <td>18945.000000</td>\n",
              "    </tr>\n",
              "    <tr>\n",
              "      <th>mean</th>\n",
              "      <td>3.750911</td>\n",
              "      <td>39.519187</td>\n",
              "    </tr>\n",
              "    <tr>\n",
              "      <th>std</th>\n",
              "      <td>2.360325</td>\n",
              "      <td>17.059321</td>\n",
              "    </tr>\n",
              "    <tr>\n",
              "      <th>min</th>\n",
              "      <td>0.000000</td>\n",
              "      <td>16.000000</td>\n",
              "    </tr>\n",
              "    <tr>\n",
              "      <th>25%</th>\n",
              "      <td>2.000000</td>\n",
              "      <td>26.000000</td>\n",
              "    </tr>\n",
              "    <tr>\n",
              "      <th>50%</th>\n",
              "      <td>3.000000</td>\n",
              "      <td>36.000000</td>\n",
              "    </tr>\n",
              "    <tr>\n",
              "      <th>75%</th>\n",
              "      <td>5.000000</td>\n",
              "      <td>50.000000</td>\n",
              "    </tr>\n",
              "    <tr>\n",
              "      <th>max</th>\n",
              "      <td>21.000000</td>\n",
              "      <td>100.000000</td>\n",
              "    </tr>\n",
              "  </tbody>\n",
              "</table>\n",
              "</div>"
            ],
            "text/plain": [
              "       household size  respondent age\n",
              "count    18945.000000    18945.000000\n",
              "mean         3.750911       39.519187\n",
              "std          2.360325       17.059321\n",
              "min          0.000000       16.000000\n",
              "25%          2.000000       26.000000\n",
              "50%          3.000000       36.000000\n",
              "75%          5.000000       50.000000\n",
              "max         21.000000      100.000000"
            ]
          },
          "metadata": {},
          "execution_count": 211
        }
      ]
    },
    {
      "cell_type": "code",
      "metadata": {
        "colab": {
          "base_uri": "https://localhost:8080/",
          "height": 312
        },
        "id": "kZF60FupfisE",
        "outputId": "7f8d5344-e228-42ca-902e-203853297dd9"
      },
      "source": [
        "plt.title(\"Rural & Urban counts\")\n",
        "sns.countplot(data = df, x = \"type of location\")"
      ],
      "execution_count": 212,
      "outputs": [
        {
          "output_type": "execute_result",
          "data": {
            "text/plain": [
              "<matplotlib.axes._subplots.AxesSubplot at 0x7f9ac348ec90>"
            ]
          },
          "metadata": {},
          "execution_count": 212
        },
        {
          "output_type": "display_data",
          "data": {
            "image/png": "[encoded data removed]",
            "text/plain": [
              "<Figure size 432x288 with 1 Axes>"
            ]
          },
          "metadata": {
            "needs_background": "light"
          }
        }
      ]
    },
    {
      "cell_type": "code",
      "metadata": {
        "colab": {
          "base_uri": "https://localhost:8080/",
          "height": 312
        },
        "id": "zmSUW60bgIkg",
        "outputId": "15e8afaa-f5d7-4771-b5c7-e7f0b6419f44"
      },
      "source": [
        "plt.figure(figsize = (15, 4))\n",
        "plt.title(\"Types of education\")\n",
        "sns.countplot(data = df, x = \"level of educuation\")"
      ],
      "execution_count": 213,
      "outputs": [
        {
          "output_type": "execute_result",
          "data": {
            "text/plain": [
              "<matplotlib.axes._subplots.AxesSubplot at 0x7f9ac334e650>"
            ]
          },
          "metadata": {},
          "execution_count": 213
        },
        {
          "output_type": "display_data",
          "data": {
            "image/png": "[encoded data removed]",
            "text/plain": [
              "<Figure size 1080x288 with 1 Axes>"
            ]
          },
          "metadata": {
            "needs_background": "light"
          }
        }
      ]
    },
    {
      "cell_type": "code",
      "metadata": {
        "id": "uk0UqHFUj6r8"
      },
      "source": [
        "cell_phone_counts = df[\"cell phone access\"].value_counts()"
      ],
      "execution_count": 214,
      "outputs": []
    },
    {
      "cell_type": "code",
      "metadata": {
        "colab": {
          "base_uri": "https://localhost:8080/",
          "height": 264
        },
        "id": "wiADY-wPhSzh",
        "outputId": "c705fec1-3273-45a4-ee8a-37abfa5e354c"
      },
      "source": [
        "plt.title(\"Cell phone access across the countries\")\n",
        "plt.pie(x = cell_phone_counts, labels = list(cell_phone_counts.index), autopct = \"%.2f%%\")\n",
        "plt.show()"
      ],
      "execution_count": 215,
      "outputs": [
        {
          "output_type": "display_data",
          "data": {
            "image/png": "[encoded data removed]",
            "text/plain": [
              "<Figure size 432x288 with 1 Axes>"
            ]
          },
          "metadata": {}
        }
      ]
    },
    {
      "cell_type": "code",
      "metadata": {
        "colab": {
          "base_uri": "https://localhost:8080/"
        },
        "id": "72f1G8nQl3rU",
        "outputId": "96e7650f-59e9-46da-c087-cf35f9efd4cf"
      },
      "source": [
        "# Cellphone counts, by Country\n",
        "df[[\"country\", \"cell phone access\"]].value_counts(sort = False)"
      ],
      "execution_count": 216,
      "outputs": [
        {
          "output_type": "execute_result",
          "data": {
            "text/plain": [
              "country   cell phone access\n",
              "Kenya     No                   1154\n",
              "          Yes                  4459\n",
              "Rwanda    No                   1303\n",
              "          Yes                  5327\n",
              "Tanzania  No                   1884\n",
              "          Yes                  2855\n",
              "Uganda    No                    602\n",
              "          Yes                  1361\n",
              "dtype: int64"
            ]
          },
          "metadata": {},
          "execution_count": 216
        }
      ]
    },
    {
      "cell_type": "markdown",
      "metadata": {
        "id": "zC4NTkKmfFWa"
      },
      "source": [
        "#### Bivariate analysis"
      ]
    },
    {
      "cell_type": "code",
      "metadata": {
        "colab": {
          "base_uri": "https://localhost:8080/",
          "height": 296
        },
        "id": "5B1z5UL0dW11",
        "outputId": "5c0e6ce9-9f9b-475d-a80f-d60ca25eed49"
      },
      "source": [
        "sns.countplot(data = df, x = \"gender of respondent\", hue = \"has a bank account\")"
      ],
      "execution_count": 217,
      "outputs": [
        {
          "output_type": "execute_result",
          "data": {
            "text/plain": [
              "<matplotlib.axes._subplots.AxesSubplot at 0x7f9ac328afd0>"
            ]
          },
          "metadata": {},
          "execution_count": 217
        },
        {
          "output_type": "display_data",
          "data": {
            "image/png": "[encoded data removed]",
            "text/plain": [
              "<Figure size 432x288 with 1 Axes>"
            ]
          },
          "metadata": {
            "needs_background": "light"
          }
        }
      ]
    },
    {
      "cell_type": "code",
      "metadata": {
        "colab": {
          "base_uri": "https://localhost:8080/",
          "height": 296
        },
        "id": "jY-cvv8RV4te",
        "outputId": "f18778d4-32c3-4e3d-f2c1-d53aa24bab79"
      },
      "source": [
        "sns.countplot(data = df, x = \"type of location\", hue = \"has a bank account\")"
      ],
      "execution_count": 218,
      "outputs": [
        {
          "output_type": "execute_result",
          "data": {
            "text/plain": [
              "<matplotlib.axes._subplots.AxesSubplot at 0x7f9ac31ebe50>"
            ]
          },
          "metadata": {},
          "execution_count": 218
        },
        {
          "output_type": "display_data",
          "data": {
            "image/png": "[encoded data removed]",
            "text/plain": [
              "<Figure size 432x288 with 1 Axes>"
            ]
          },
          "metadata": {
            "needs_background": "light"
          }
        }
      ]
    },
    {
      "cell_type": "code",
      "metadata": {
        "colab": {
          "base_uri": "https://localhost:8080/",
          "height": 296
        },
        "id": "hochaxq3VzAT",
        "outputId": "e96b5024-ce93-43b4-b5fa-4a41c90f2c4b"
      },
      "source": [
        "plt.figure(figsize = (15, 4))\n",
        "sns.countplot(data = df, x = \"level of educuation\", hue = \"has a bank account\")"
      ],
      "execution_count": 219,
      "outputs": [
        {
          "output_type": "execute_result",
          "data": {
            "text/plain": [
              "<matplotlib.axes._subplots.AxesSubplot at 0x7f9ac31c2690>"
            ]
          },
          "metadata": {},
          "execution_count": 219
        },
        {
          "output_type": "display_data",
          "data": {
            "image/png": "[encoded data removed]",
            "text/plain": [
              "<Figure size 1080x288 with 1 Axes>"
            ]
          },
          "metadata": {
            "needs_background": "light"
          }
        }
      ]
    },
    {
      "cell_type": "code",
      "metadata": {
        "colab": {
          "base_uri": "https://localhost:8080/",
          "height": 386
        },
        "id": "i91sZGgkb4Cl",
        "outputId": "d97d7ebb-1ccd-4055-c2c8-9f7e35215d1d"
      },
      "source": [
        "sns.displot(data = df, x = \"household size\", hue =\"has a bank account\", bins = 21)"
      ],
      "execution_count": 220,
      "outputs": [
        {
          "output_type": "execute_result",
          "data": {
            "text/plain": [
              "<seaborn.axisgrid.FacetGrid at 0x7f9ac3156e10>"
            ]
          },
          "metadata": {},
          "execution_count": 220
        },
        {
          "output_type": "display_data",
          "data": {
            "image/png": "[encoded data removed]",
            "text/plain": [
              "<Figure size 465.5x360 with 1 Axes>"
            ]
          },
          "metadata": {
            "needs_background": "light"
          }
        }
      ]
    },
    {
      "cell_type": "code",
      "metadata": {
        "colab": {
          "base_uri": "https://localhost:8080/",
          "height": 386
        },
        "id": "OHl12cDehNfs",
        "outputId": "7dd2a63d-bf17-4660-dde5-27efc16d05de"
      },
      "source": [
        "sns.displot(data = df, x = \"respondent age\", hue =\"has a bank account\", bins = 21)"
      ],
      "execution_count": 221,
      "outputs": [
        {
          "output_type": "execute_result",
          "data": {
            "text/plain": [
              "<seaborn.axisgrid.FacetGrid at 0x7f9ac328a850>"
            ]
          },
          "metadata": {},
          "execution_count": 221
        },
        {
          "output_type": "display_data",
          "data": {
            "image/png": "[encoded data removed]",
            "text/plain": [
              "<Figure size 465.5x360 with 1 Axes>"
            ]
          },
          "metadata": {
            "needs_background": "light"
          }
        }
      ]
    },
    {
      "cell_type": "markdown",
      "metadata": {
        "id": "go6hDoZq5J9A"
      },
      "source": [
        "#### Multivariate analysis"
      ]
    },
    {
      "cell_type": "markdown",
      "metadata": {
        "id": "YyHFObt35WAy"
      },
      "source": [
        "##### **Factor analysis**"
      ]
    },
    {
      "cell_type": "code",
      "metadata": {
        "colab": {
          "base_uri": "https://localhost:8080/"
        },
        "id": "QOTulpdF7HIY",
        "outputId": "09a9ecdb-8b88-4587-c664-f0a1bdf289ed"
      },
      "source": [
        "# Install factor analyzer\n",
        "!pip install factor_analyzer==0.2.3"
      ],
      "execution_count": 222,
      "outputs": [
        {
          "output_type": "stream",
          "name": "stdout",
          "text": [
            "Requirement already satisfied: factor_analyzer==0.2.3 in /usr/local/lib/python3.7/dist-packages (0.2.3)\n",
            "Requirement already satisfied: pandas in /usr/local/lib/python3.7/dist-packages (from factor_analyzer==0.2.3) (1.1.5)\n",
            "Requirement already satisfied: numpy in /usr/local/lib/python3.7/dist-packages (from factor_analyzer==0.2.3) (1.19.5)\n",
            "Requirement already satisfied: scipy in /usr/local/lib/python3.7/dist-packages (from factor_analyzer==0.2.3) (1.4.1)\n",
            "Requirement already satisfied: pytz>=2017.2 in /usr/local/lib/python3.7/dist-packages (from pandas->factor_analyzer==0.2.3) (2018.9)\n",
            "Requirement already satisfied: python-dateutil>=2.7.3 in /usr/local/lib/python3.7/dist-packages (from pandas->factor_analyzer==0.2.3) (2.8.2)\n",
            "Requirement already satisfied: six>=1.5 in /usr/local/lib/python3.7/dist-packages (from python-dateutil>=2.7.3->pandas->factor_analyzer==0.2.3) (1.15.0)\n"
          ]
        }
      ]
    },
    {
      "cell_type": "code",
      "metadata": {
        "id": "v-1I4OCQ7XXz"
      },
      "source": [
        "# Import factor analyzer\n",
        "from factor_analyzer.factor_analyzer import FactorAnalyzer"
      ],
      "execution_count": 223,
      "outputs": []
    },
    {
      "cell_type": "code",
      "metadata": {
        "id": "Sz3Cs2wD9W3i"
      },
      "source": [
        "# Instance of factor analyzer\n",
        "factorAnalyzer = FactorAnalyzer()"
      ],
      "execution_count": 224,
      "outputs": []
    },
    {
      "cell_type": "code",
      "metadata": {
        "colab": {
          "base_uri": "https://localhost:8080/",
          "height": 328
        },
        "id": "Sb22gcTO9NMB",
        "outputId": "f9f4fae8-2c7c-4743-cc90-6466675c24b9"
      },
      "source": [
        "# Choosing the number of factors (Eigen Values)\n",
        "df_num_x = df_num.drop(\"has a bank account\", axis = 1)\n",
        "factorAnalyzer.analyze(df_num_x, 9, rotation=None)\n",
        "EigenValues, CommonEigenValues  = factorAnalyzer.get_eigenvalues()\n",
        "EigenValues"
      ],
      "execution_count": 225,
      "outputs": [
        {
          "output_type": "execute_result",
          "data": {
            "text/html": [
              "<div>\n",
              "<style scoped>\n",
              "    .dataframe tbody tr th:only-of-type {\n",
              "        vertical-align: middle;\n",
              "    }\n",
              "\n",
              "    .dataframe tbody tr th {\n",
              "        vertical-align: top;\n",
              "    }\n",
              "\n",
              "    .dataframe thead th {\n",
              "        text-align: right;\n",
              "    }\n",
              "</style>\n",
              "<table border=\"1\" class=\"dataframe\">\n",
              "  <thead>\n",
              "    <tr style=\"text-align: right;\">\n",
              "      <th></th>\n",
              "      <th>Original_Eigenvalues</th>\n",
              "    </tr>\n",
              "  </thead>\n",
              "  <tbody>\n",
              "    <tr>\n",
              "      <th>0</th>\n",
              "      <td>1.667379</td>\n",
              "    </tr>\n",
              "    <tr>\n",
              "      <th>1</th>\n",
              "      <td>1.498482</td>\n",
              "    </tr>\n",
              "    <tr>\n",
              "      <th>2</th>\n",
              "      <td>1.467044</td>\n",
              "    </tr>\n",
              "    <tr>\n",
              "      <th>3</th>\n",
              "      <td>0.994453</td>\n",
              "    </tr>\n",
              "    <tr>\n",
              "      <th>4</th>\n",
              "      <td>0.872540</td>\n",
              "    </tr>\n",
              "    <tr>\n",
              "      <th>5</th>\n",
              "      <td>0.755140</td>\n",
              "    </tr>\n",
              "    <tr>\n",
              "      <th>6</th>\n",
              "      <td>0.687481</td>\n",
              "    </tr>\n",
              "    <tr>\n",
              "      <th>7</th>\n",
              "      <td>0.563562</td>\n",
              "    </tr>\n",
              "    <tr>\n",
              "      <th>8</th>\n",
              "      <td>0.493920</td>\n",
              "    </tr>\n",
              "  </tbody>\n",
              "</table>\n",
              "</div>"
            ],
            "text/plain": [
              "   Original_Eigenvalues\n",
              "0              1.667379\n",
              "1              1.498482\n",
              "2              1.467044\n",
              "3              0.994453\n",
              "4              0.872540\n",
              "5              0.755140\n",
              "6              0.687481\n",
              "7              0.563562\n",
              "8              0.493920"
            ]
          },
          "metadata": {},
          "execution_count": 225
        }
      ]
    },
    {
      "cell_type": "code",
      "metadata": {
        "id": "dJ_-BDLf_O12"
      },
      "source": [
        "# Eigen values above 1: 0, 1, 2\n",
        "\n",
        "# I will choose 2 factors"
      ],
      "execution_count": 226,
      "outputs": []
    },
    {
      "cell_type": "code",
      "metadata": {
        "colab": {
          "base_uri": "https://localhost:8080/",
          "height": 328
        },
        "id": "U3wJjg1o5PqG",
        "outputId": "27068943-96eb-452b-8ef2-1d8c170c3151"
      },
      "source": [
        "# Create factors\n",
        "factorAnalyzer.analyze(df_num_x, 2, rotation = \"varimax\")\n",
        "factorAnalyzer.loadings"
      ],
      "execution_count": 227,
      "outputs": [
        {
          "output_type": "execute_result",
          "data": {
            "text/html": [
              "<div>\n",
              "<style scoped>\n",
              "    .dataframe tbody tr th:only-of-type {\n",
              "        vertical-align: middle;\n",
              "    }\n",
              "\n",
              "    .dataframe tbody tr th {\n",
              "        vertical-align: top;\n",
              "    }\n",
              "\n",
              "    .dataframe thead th {\n",
              "        text-align: right;\n",
              "    }\n",
              "</style>\n",
              "<table border=\"1\" class=\"dataframe\">\n",
              "  <thead>\n",
              "    <tr style=\"text-align: right;\">\n",
              "      <th></th>\n",
              "      <th>Factor1</th>\n",
              "      <th>Factor2</th>\n",
              "    </tr>\n",
              "  </thead>\n",
              "  <tbody>\n",
              "    <tr>\n",
              "      <th>type of location</th>\n",
              "      <td>0.002440</td>\n",
              "      <td>0.126831</td>\n",
              "    </tr>\n",
              "    <tr>\n",
              "      <th>cell phone access</th>\n",
              "      <td>-0.081981</td>\n",
              "      <td>0.303786</td>\n",
              "    </tr>\n",
              "    <tr>\n",
              "      <th>household size</th>\n",
              "      <td>0.090013</td>\n",
              "      <td>0.072930</td>\n",
              "    </tr>\n",
              "    <tr>\n",
              "      <th>respondent age</th>\n",
              "      <td>-0.121452</td>\n",
              "      <td>-0.559216</td>\n",
              "    </tr>\n",
              "    <tr>\n",
              "      <th>gender of respondent</th>\n",
              "      <td>-0.443068</td>\n",
              "      <td>0.146362</td>\n",
              "    </tr>\n",
              "    <tr>\n",
              "      <th>The relationship with head</th>\n",
              "      <td>0.965479</td>\n",
              "      <td>0.094637</td>\n",
              "    </tr>\n",
              "    <tr>\n",
              "      <th>marital status</th>\n",
              "      <td>-0.084380</td>\n",
              "      <td>-0.275561</td>\n",
              "    </tr>\n",
              "    <tr>\n",
              "      <th>level of educuation</th>\n",
              "      <td>-0.082137</td>\n",
              "      <td>0.658992</td>\n",
              "    </tr>\n",
              "    <tr>\n",
              "      <th>type of job</th>\n",
              "      <td>0.061581</td>\n",
              "      <td>0.083465</td>\n",
              "    </tr>\n",
              "  </tbody>\n",
              "</table>\n",
              "</div>"
            ],
            "text/plain": [
              "                             Factor1   Factor2\n",
              "type of location            0.002440  0.126831\n",
              "cell phone access          -0.081981  0.303786\n",
              "household size              0.090013  0.072930\n",
              "respondent age             -0.121452 -0.559216\n",
              "gender of respondent       -0.443068  0.146362\n",
              "The relationship with head  0.965479  0.094637\n",
              "marital status             -0.084380 -0.275561\n",
              "level of educuation        -0.082137  0.658992\n",
              "type of job                 0.061581  0.083465"
            ]
          },
          "metadata": {},
          "execution_count": 227
        }
      ]
    },
    {
      "cell_type": "code",
      "metadata": {
        "colab": {
          "base_uri": "https://localhost:8080/",
          "height": 142
        },
        "id": "eDLyDZEoAeNt",
        "outputId": "fb6e05a9-c34e-4974-99ce-68099c0d5dbd"
      },
      "source": [
        "# Factor variances\n",
        "factorAnalyzer.get_factor_variance()"
      ],
      "execution_count": 228,
      "outputs": [
        {
          "output_type": "execute_result",
          "data": {
            "text/html": [
              "<div>\n",
              "<style scoped>\n",
              "    .dataframe tbody tr th:only-of-type {\n",
              "        vertical-align: middle;\n",
              "    }\n",
              "\n",
              "    .dataframe tbody tr th {\n",
              "        vertical-align: top;\n",
              "    }\n",
              "\n",
              "    .dataframe thead th {\n",
              "        text-align: right;\n",
              "    }\n",
              "</style>\n",
              "<table border=\"1\" class=\"dataframe\">\n",
              "  <thead>\n",
              "    <tr style=\"text-align: right;\">\n",
              "      <th></th>\n",
              "      <th>Factor1</th>\n",
              "      <th>Factor2</th>\n",
              "    </tr>\n",
              "  </thead>\n",
              "  <tbody>\n",
              "    <tr>\n",
              "      <th>SS Loadings</th>\n",
              "      <td>1.175697</td>\n",
              "      <td>0.973963</td>\n",
              "    </tr>\n",
              "    <tr>\n",
              "      <th>Proportion Var</th>\n",
              "      <td>0.130633</td>\n",
              "      <td>0.108218</td>\n",
              "    </tr>\n",
              "    <tr>\n",
              "      <th>Cumulative Var</th>\n",
              "      <td>0.130633</td>\n",
              "      <td>0.238851</td>\n",
              "    </tr>\n",
              "  </tbody>\n",
              "</table>\n",
              "</div>"
            ],
            "text/plain": [
              "                 Factor1   Factor2\n",
              "SS Loadings     1.175697  0.973963\n",
              "Proportion Var  0.130633  0.108218\n",
              "Cumulative Var  0.130633  0.238851"
            ]
          },
          "metadata": {},
          "execution_count": 228
        }
      ]
    },
    {
      "cell_type": "markdown",
      "metadata": {
        "id": "SB_pXjEcASgo"
      },
      "source": [
        "##### **Principal component analysis**"
      ]
    },
    {
      "cell_type": "code",
      "metadata": {
        "id": "5XOW8GGtBHYz"
      },
      "source": [
        "# Import scaler library\n",
        "from sklearn.preprocessing import StandardScaler"
      ],
      "execution_count": 229,
      "outputs": []
    },
    {
      "cell_type": "code",
      "metadata": {
        "id": "LGq8jihS_qRp"
      },
      "source": [
        "# Import PCA\n",
        "from sklearn.decomposition import PCA"
      ],
      "execution_count": 230,
      "outputs": []
    },
    {
      "cell_type": "code",
      "metadata": {
        "id": "YLWvbw1gBuBA"
      },
      "source": [
        "# Select X & Y\n",
        "columns = ['type of location', 'cell phone access', 'household size', 'respondent age', 'gender of respondent', \n",
        "       'The relationship with head', 'marital status', 'level of educuation', 'type of job']\n",
        "X = df_num[columns]\n",
        "y = df_num[\"has a bank account\"]"
      ],
      "execution_count": 231,
      "outputs": []
    },
    {
      "cell_type": "code",
      "metadata": {
        "id": "TCCTgOvZBSLx"
      },
      "source": [
        "# Scale x features\n",
        "standardScaler = StandardScaler()\n",
        "standardScaler.fit(X)\n",
        "X_transformed = standardScaler.transform(X)"
      ],
      "execution_count": 232,
      "outputs": []
    },
    {
      "cell_type": "code",
      "metadata": {
        "id": "DEqV6TlkDj3w"
      },
      "source": [
        "# Create PCA analysis\n",
        "pca = PCA(n_components = 5)\n",
        "pca.fit(X_transformed)\n",
        "X_pca = pca.transform(X_transformed)"
      ],
      "execution_count": 233,
      "outputs": []
    },
    {
      "cell_type": "code",
      "metadata": {
        "colab": {
          "base_uri": "https://localhost:8080/"
        },
        "id": "GBCoV8CUEBIm",
        "outputId": "8089126a-60bf-4405-e8c4-0d4487dd18a7"
      },
      "source": [
        "# Variances explained by each principal component\n",
        "pca.explained_variance_ratio_"
      ],
      "execution_count": 234,
      "outputs": [
        {
          "output_type": "execute_result",
          "data": {
            "text/plain": [
              "array([0.1852643 , 0.166498  , 0.16300486, 0.11049483, 0.09694885])"
            ]
          },
          "metadata": {},
          "execution_count": 234
        }
      ]
    },
    {
      "cell_type": "markdown",
      "metadata": {
        "id": "cgK3AmnlFQqw"
      },
      "source": [
        "##### **Linear Discriminant Analysis**"
      ]
    },
    {
      "cell_type": "code",
      "metadata": {
        "id": "zFCD7R5cEOIe"
      },
      "source": [
        "# Import LDA\n",
        "from sklearn.discriminant_analysis import LinearDiscriminantAnalysis as LDA"
      ],
      "execution_count": 235,
      "outputs": []
    },
    {
      "cell_type": "code",
      "metadata": {
        "id": "MjT75Mf7U_t6"
      },
      "source": [
        "# Scale x features\n",
        "standardScaler = StandardScaler()\n",
        "standardScaler.fit(X)\n",
        "X_transformed = standardScaler.transform(X)"
      ],
      "execution_count": 236,
      "outputs": []
    },
    {
      "cell_type": "code",
      "metadata": {
        "id": "_VJdr_D6FqtP"
      },
      "source": [
        "# Do LDA analysis\n",
        "Lda = LDA(n_components = 1)\n",
        "Lda.fit(X_transformed, y)\n",
        "X_lda = Lda.transform(X_transformed)"
      ],
      "execution_count": 237,
      "outputs": []
    },
    {
      "cell_type": "code",
      "metadata": {
        "colab": {
          "base_uri": "https://localhost:8080/"
        },
        "id": "YJXZwOY5GSOk",
        "outputId": "fd0cde63-bcb6-47a4-ca49-eb3c77488d90"
      },
      "source": [
        "# Variance meant to be explained by each Discriminant\n",
        "Lda.explained_variance_ratio_"
      ],
      "execution_count": 238,
      "outputs": [
        {
          "output_type": "execute_result",
          "data": {
            "text/plain": [
              "array([1.])"
            ]
          },
          "metadata": {},
          "execution_count": 238
        }
      ]
    },
    {
      "cell_type": "markdown",
      "metadata": {
        "id": "6EpsPpFpGhqA"
      },
      "source": [
        "## 8. Solution"
      ]
    },
    {
      "cell_type": "markdown",
      "metadata": {
        "id": "KuTy1EOeWCSd"
      },
      "source": [
        "##### **Linear Discriminant Analysis**"
      ]
    },
    {
      "cell_type": "code",
      "metadata": {
        "id": "peDXr1L0WVhq"
      },
      "source": [
        "# Import train test split\n",
        "from sklearn.model_selection import train_test_split"
      ],
      "execution_count": 239,
      "outputs": []
    },
    {
      "cell_type": "code",
      "metadata": {
        "id": "sWqYntEZWCSl"
      },
      "source": [
        "# Import LDA\n",
        "from sklearn.discriminant_analysis import LinearDiscriminantAnalysis as LDA"
      ],
      "execution_count": 240,
      "outputs": []
    },
    {
      "cell_type": "code",
      "metadata": {
        "id": "Kvjbk5R6WG5L"
      },
      "source": [
        "# Select X & Y\n",
        "columns = ['type of location', 'cell phone access', 'household size', 'respondent age', 'gender of respondent', \n",
        "       'The relationship with head', 'marital status', 'level of educuation', 'type of job']\n",
        "X = df_num[columns]\n",
        "y = df_num[\"has a bank account\"]"
      ],
      "execution_count": 241,
      "outputs": []
    },
    {
      "cell_type": "code",
      "metadata": {
        "id": "RojHjROgWgMt"
      },
      "source": [
        "# Do train test split, test size = 20%\n",
        "X_train, X_test, y_train, y_test = train_test_split(X, y, test_size=0.2, random_state= 42)"
      ],
      "execution_count": 242,
      "outputs": []
    },
    {
      "cell_type": "code",
      "metadata": {
        "id": "2CFfzuBDWCSl"
      },
      "source": [
        "# Scale features x_train & x_test\n",
        "standardScaler = StandardScaler()\n",
        "standardScaler.fit(X_train)\n",
        "X_train_transformed = standardScaler.transform(X_train)\n",
        "X_test_transformed = standardScaler.transform(X_test)"
      ],
      "execution_count": 243,
      "outputs": []
    },
    {
      "cell_type": "code",
      "metadata": {
        "id": "4jpWltX9WCSl"
      },
      "source": [
        "# Do LDA analysis\n",
        "Lda = LDA(n_components = 1)\n",
        "Lda.fit(X_train_transformed, y_train)\n",
        "X_train_lda = Lda.transform(X_train_transformed)"
      ],
      "execution_count": 244,
      "outputs": []
    },
    {
      "cell_type": "code",
      "metadata": {
        "colab": {
          "base_uri": "https://localhost:8080/"
        },
        "id": "LzBzold7X3Du",
        "outputId": "77ceb297-9ba8-4270-f6d1-3ff0c6fd72b6"
      },
      "source": [
        "# Variance meant to be explained by each Discriminant, 1 discriminant\n",
        "Lda.explained_variance_ratio_"
      ],
      "execution_count": 245,
      "outputs": [
        {
          "output_type": "execute_result",
          "data": {
            "text/plain": [
              "array([1.])"
            ]
          },
          "metadata": {},
          "execution_count": 245
        }
      ]
    },
    {
      "cell_type": "code",
      "metadata": {
        "colab": {
          "base_uri": "https://localhost:8080/"
        },
        "id": "ftXLtTMvbCWn",
        "outputId": "ed0a83cf-21e9-4593-bdaf-4e2ac5a2ef48"
      },
      "source": [
        "# Column names in relation to their coefficients\n",
        "X.columns"
      ],
      "execution_count": 246,
      "outputs": [
        {
          "output_type": "execute_result",
          "data": {
            "text/plain": [
              "Index(['type of location', 'cell phone access', 'household size',\n",
              "       'respondent age', 'gender of respondent', 'The relationship with head',\n",
              "       'marital status', 'level of educuation', 'type of job'],\n",
              "      dtype='object')"
            ]
          },
          "metadata": {},
          "execution_count": 246
        }
      ]
    },
    {
      "cell_type": "code",
      "metadata": {
        "colab": {
          "base_uri": "https://localhost:8080/"
        },
        "id": "KuOAuY--a_2N",
        "outputId": "5ca47bed-148e-42fa-c794-ba0b8430318f"
      },
      "source": [
        "Lda.coef_"
      ],
      "execution_count": 247,
      "outputs": [
        {
          "output_type": "execute_result",
          "data": {
            "text/plain": [
              "array([[ 0.2786728 ,  0.49414229, -0.03375889,  0.41698404,  0.21069826,\n",
              "         0.00328438, -0.02168909,  0.99134637, -0.25946991]])"
            ]
          },
          "metadata": {},
          "execution_count": 247
        }
      ]
    },
    {
      "cell_type": "code",
      "metadata": {
        "id": "QXkPIpdPXGAT"
      },
      "source": [
        "# Creating predictions\n",
        "predictions = Lda.predict(X_test_transformed)"
      ],
      "execution_count": 248,
      "outputs": []
    },
    {
      "cell_type": "code",
      "metadata": {
        "id": "hJZ3lMHoXYCS"
      },
      "source": [
        "# Import confusion matrix and classification report for accuracy evaluation\n",
        "from sklearn.metrics import confusion_matrix, classification_report"
      ],
      "execution_count": 249,
      "outputs": []
    },
    {
      "cell_type": "code",
      "metadata": {
        "colab": {
          "base_uri": "https://localhost:8080/"
        },
        "id": "Eue8Tx10XVbo",
        "outputId": "5f7c8681-68c6-488b-97fb-c2f6d2bd6892"
      },
      "source": [
        "# Accuracy scores confusion matrix\n",
        "print(confusion_matrix(y_test, predictions))"
      ],
      "execution_count": 250,
      "outputs": [
        {
          "output_type": "stream",
          "name": "stdout",
          "text": [
            "[[3119   72]\n",
            " [ 446  152]]\n"
          ]
        }
      ]
    },
    {
      "cell_type": "code",
      "metadata": {
        "colab": {
          "base_uri": "https://localhost:8080/"
        },
        "id": "jzRgxWHVXvXB",
        "outputId": "f5792128-d67e-4772-9cc1-9ce088327c9a"
      },
      "source": [
        "# Scores classification report\n",
        "print(classification_report(y_test, predictions))"
      ],
      "execution_count": 251,
      "outputs": [
        {
          "output_type": "stream",
          "name": "stdout",
          "text": [
            "              precision    recall  f1-score   support\n",
            "\n",
            "           0       0.87      0.98      0.92      3191\n",
            "           1       0.68      0.25      0.37       598\n",
            "\n",
            "    accuracy                           0.86      3789\n",
            "   macro avg       0.78      0.62      0.65      3789\n",
            "weighted avg       0.84      0.86      0.84      3789\n",
            "\n"
          ]
        }
      ]
    },
    {
      "cell_type": "markdown",
      "metadata": {
        "id": "57EmM2hlZ4yi"
      },
      "source": [
        "## Conclusion"
      ]
    },
    {
      "cell_type": "markdown",
      "metadata": {
        "id": "pIMPsMxPZFCN"
      },
      "source": [
        "The linear discriminant analysis technique was able to get us a accuracy score of 87% for finding out if an individual would get a bank account, and 68% if they would not. This means that we are able to accurately predict, with an average of 78%. Which is not bad for a basic model. This type of analysis, allows us to get basic results using it's reduction technique."
      ]
    },
    {
      "cell_type": "markdown",
      "metadata": {
        "id": "Dts7nzWna3Py"
      },
      "source": [
        "In terms of coefficients, it has allowed us to pick out the coefficients of:\n",
        "\n",
        "1. level of educuation (0.99)\n",
        "2. cell phone access (0.49)\n",
        "3. respondent age (0.41)\n",
        "4. type of location (0.27)\n",
        "\n",
        "As major factors. In deciding whether an individual has a bank account or not."
      ]
    },
    {
      "cell_type": "markdown",
      "metadata": {
        "id": "gXZN6A01Z_5a"
      },
      "source": [
        "## Challenging the solution"
      ]
    },
    {
      "cell_type": "markdown",
      "metadata": {
        "id": "Xr749HGVaW2r"
      },
      "source": [
        "I believe we can improve the solution. By using different models. I believe a model different from this one, that is more advanced. Would be able to answer the question. Of which individuals would be financially included, or excluded based on the data we had. However, in terms of coefficients, I believe the Linear Discriminant analysis model has allowed us to pick the right coefficients. As it had an accuracy score of 78% overall."
      ]
    },
    {
      "cell_type": "markdown",
      "metadata": {
        "id": "aD7l6-Vache4"
      },
      "source": [
        "## Follow up questions"
      ]
    },
    {
      "cell_type": "markdown",
      "metadata": {
        "id": "mGqfqsj-cpOq"
      },
      "source": [
        "#### a) Did we have the right data ?"
      ]
    },
    {
      "cell_type": "markdown",
      "metadata": {
        "id": "Jke0KPX8dEm7"
      },
      "source": [
        "Yes I believe we had the right data. We had financial inclusion, for different countries in Africa. This allowed us to gain an overall picture of how financial inclusion was in those countries. Through those years. The years, also were not too spread apart."
      ]
    },
    {
      "cell_type": "markdown",
      "metadata": {
        "id": "lBKWJIHEcvlH"
      },
      "source": [
        "#### b) Do we need other data to answer our question ?"
      ]
    },
    {
      "cell_type": "markdown",
      "metadata": {
        "id": "gX--0HfAdVtj"
      },
      "source": [
        "I believe the data we had was enough. With us having around 23,000 rows for all the countries. However, it would be good if we had this financial inclusion data for the all the countries, for each of the years. So it did not jump from 2008 to 2009 in another country. This would make the analysis, more accurate."
      ]
    },
    {
      "cell_type": "markdown",
      "metadata": {
        "id": "dwXdwnfsc2k_"
      },
      "source": [
        "#### c) Did we have the right question ?"
      ]
    },
    {
      "cell_type": "markdown",
      "metadata": {
        "id": "US2045H6d0I3"
      },
      "source": [
        "I believe we had the right question. As the data, was centred around this question on financial inclusion. So I believe it was a right question to ask, given the dataset."
      ]
    }
  ]
}